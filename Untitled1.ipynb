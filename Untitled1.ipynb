{
  "nbformat": 4,
  "nbformat_minor": 0,
  "metadata": {
    "colab": {
      "name": "Untitled1.ipynb",
      "provenance": [],
      "authorship_tag": "ABX9TyMTpxPIjxEKrKNbqT/5N71i",
      "include_colab_link": true
    },
    "kernelspec": {
      "name": "python3",
      "display_name": "Python 3"
    }
  },
  "cells": [
    {
      "cell_type": "markdown",
      "metadata": {
        "id": "view-in-github",
        "colab_type": "text"
      },
      "source": [
        "<a href=\"https://colab.research.google.com/github/BrettWildman/First-Notebook-Pic/blob/master/Untitled1.ipynb\" target=\"_parent\"><img src=\"https://colab.research.google.com/assets/colab-badge.svg\" alt=\"Open In Colab\"/></a>"
      ]
    },
    {
      "cell_type": "markdown",
      "metadata": {
        "id": "FxCgJJwWLsZq",
        "colab_type": "text"
      },
      "source": [
        "\tFor my Pet Shop I produced an ER diagram that represents my shops day to day operations.  These day to day operations are approximant values and are not all accurate to a tee. I created six tables for my shop that each have tables and connections that show the flow of my shop.  I assumed that the shop that I was creating the diagram for was a small local one.  Even though it is a small shop I still found it important for each customer to have an ID so that is one of the tables. I also kept track of the pets in two different ways.  The first table is the transaction of the pet sale while the other is the inventory. This is important so that I can keep track of sales while knowing the inventory of each pet.  I did the same thing in the food category.  The transactions and inventory tables were kept separate. The primary key for both of the transactions consisted of a bar code because it is unique and easily traceable for sales.  The primary key for both of the inventories consisted of ID’s whether that be pet ID or food ID so that I can keep track of everything with a unique ID.  My last table was the enclosures one.  This is the table for all of the habitats that the animals are kept in.  The connections between these tables have numbers next to the symbols that dictate whether they are one to one and so on.  These numbers are an estimate for the number of transitions if it is many.  The reasons these numbers may seem relatively small is because I kept in mind that I chose to run a small local Pet Shop."
      ]
    },
    {
      "cell_type": "markdown",
      "metadata": {
        "id": "Md5lYgdnLvX9",
        "colab_type": "text"
      },
      "source": [
        "![alt text](https://nbviewer.jupyter.org/github/BrettWildman/Pet-Shop/blob/master/Pet%20Shop.png)"
      ]
    }
  ]
}