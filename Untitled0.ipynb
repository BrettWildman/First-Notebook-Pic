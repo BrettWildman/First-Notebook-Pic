{
  "nbformat": 4,
  "nbformat_minor": 0,
  "metadata": {
    "colab": {
      "name": "Untitled0.ipynb",
      "provenance": [],
      "authorship_tag": "ABX9TyOjWCaRjrYdOcRxNFRK3sn8",
      "include_colab_link": true
    },
    "kernelspec": {
      "name": "python3",
      "display_name": "Python 3"
    }
  },
  "cells": [
    {
      "cell_type": "markdown",
      "metadata": {
        "id": "view-in-github",
        "colab_type": "text"
      },
      "source": [
        "<a href=\"https://colab.research.google.com/github/BrettWildman/First-Notebook-Pic/blob/master/Untitled0.ipynb\" target=\"_parent\"><img src=\"https://colab.research.google.com/assets/colab-badge.svg\" alt=\"Open In Colab\"/></a>"
      ]
    },
    {
      "cell_type": "markdown",
      "metadata": {
        "id": "WpIPXymfw-5Y",
        "colab_type": "text"
      },
      "source": [
        "Brett Wildman"
      ]
    },
    {
      "cell_type": "markdown",
      "metadata": {
        "id": "rFDsCDo2xF0G",
        "colab_type": "text"
      },
      "source": [
        "I am intrested in Security Risk Analysis within the college of IST"
      ]
    },
    {
      "cell_type": "markdown",
      "metadata": {
        "id": "8UqaMd9NxPgF",
        "colab_type": "text"
      },
      "source": [
        "Hopefully a future job will be working in a Government Agency"
      ]
    },
    {
      "cell_type": "markdown",
      "metadata": {
        "id": "2r0XLpNExgOX",
        "colab_type": "text"
      },
      "source": [
        "![alt text](https://raw.githubusercontent.com/BrettWildman/First-Notebook-Pic/master/Head%20Shot.png)"
      ]
    }
  ]
}